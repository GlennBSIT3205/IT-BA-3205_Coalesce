{
  "nbformat": 4,
  "nbformat_minor": 0,
  "metadata": {
    "colab": {
      "name": "Education in the Philippines Visualization.ipynb",
      "provenance": [],
      "authorship_tag": "ABX9TyMSIMJAlkp9PG7v53ozkg58",
      "include_colab_link": true
    },
    "kernelspec": {
      "name": "python3",
      "display_name": "Python 3"
    },
    "language_info": {
      "name": "python"
    }
  },
  "cells": [
    {
      "cell_type": "markdown",
      "metadata": {
        "id": "view-in-github",
        "colab_type": "text"
      },
      "source": [
        "<a href=\"https://colab.research.google.com/github/GlennBSIT3205/IT-BA-3205_Coalesce/blob/main/EducationInThePhilippinesVisualization.ipynb\" target=\"_parent\"><img src=\"https://colab.research.google.com/assets/colab-badge.svg\" alt=\"Open In Colab\"/></a>"
      ]
    },
    {
      "cell_type": "code",
      "execution_count": null,
      "metadata": {
        "id": "xVkwGU35Curb"
      },
      "outputs": [],
      "source": [
        "import numpy as np\n",
        "import pandas as pd"
      ]
    },
    {
      "cell_type": "code",
      "source": [
        "\n",
        "url = 'https://github.com/GlennBSIT3205/IT-BA-3205_Coalesce/tree/main/Data%20Sets'\n",
        "dataset = pd.read_csv(url)\n",
        "dataset.head()"
    
  ]
}
